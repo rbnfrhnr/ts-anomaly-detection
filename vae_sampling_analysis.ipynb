{
 "cells": [
  {
   "cell_type": "code",
   "execution_count": 141,
   "metadata": {},
   "outputs": [],
   "source": [
    "import torch\n",
    "import torch.nn as nn\n",
    "from model.vautoencoder import VariationalAutoencoder\n",
    "from data.ucr_loader import UCRDataset\n",
    "from utils.common import read_cfg\n",
    "import matplotlib.pyplot as plt\n",
    "import numpy as np\n",
    "from scipy.signal import savgol_filter\n",
    "\n",
    "\n",
    "\n",
    "\n",
    "\n"
   ]
  },
  {
   "cell_type": "code",
   "execution_count": 362,
   "metadata": {},
   "outputs": [],
   "source": [
    "# model_path = \"./out/runs/test/test/test-2022-10-25-07-42-58/autoencoder.pkl\"\n",
    "# model_path = \"./out/runs/test/test/test-2022-10-25-09-33-40/autoencoder.pkl\"\n",
    "# model_path = \"./out/runs/test/test/test-2022-10-25-10-30-20/autoencoder.pkl\"\n",
    "model_path = \"./out/runs/test/test/test-2022-10-25-12-41-39/ae-class.pkl\"\n",
    "cfg = read_cfg(\"./config/test.yaml\")\n",
    "# model = VariationalAutoencoder(**cfg[\"autoencoder\"])\n",
    "# model.load_state_dict(torch.load(model_path))\n",
    "model = torch.load(model_path)"
   ]
  },
  {
   "cell_type": "code",
   "execution_count": 363,
   "metadata": {},
   "outputs": [
    {
     "data": {
      "text/plain": [
       "VariationalAutoencoder(\n",
       "  (encoder): VariationalEncoder(\n",
       "    (layers): ModuleList(\n",
       "      (0): LSTM(1, 1, batch_first=True)\n",
       "      (1): RNNExtract()\n",
       "      (2): Reshape()\n",
       "      (3): ReLU()\n",
       "      (4): Linear(in_features=175, out_features=10, bias=True)\n",
       "    )\n",
       "    (mu_layer): Linear(in_features=10, out_features=4, bias=True)\n",
       "    (sigma_layer): Linear(in_features=10, out_features=4, bias=True)\n",
       "  )\n",
       "  (decoder): Decoder(\n",
       "    (layers): ModuleList(\n",
       "      (0): Linear(in_features=4, out_features=24, bias=True)\n",
       "      (1): ReLU()\n",
       "      (2): Linear(in_features=24, out_features=175, bias=True)\n",
       "      (3): ReLU()\n",
       "      (4): Reshape()\n",
       "      (5): LSTM(1, 1, batch_first=True)\n",
       "      (6): RNNExtract()\n",
       "    )\n",
       "  )\n",
       ")"
      ]
     },
     "execution_count": 363,
     "metadata": {},
     "output_type": "execute_result"
    }
   ],
   "source": [
    "model"
   ]
  },
  {
   "cell_type": "code",
   "execution_count": 364,
   "metadata": {},
   "outputs": [
    {
     "data": {
      "text/plain": [
       "VariationalAutoencoder(\n",
       "  (encoder): VariationalEncoder(\n",
       "    (layers): ModuleList(\n",
       "      (0): LSTM(1, 1, batch_first=True)\n",
       "      (1): RNNExtract()\n",
       "      (2): Reshape()\n",
       "      (3): ReLU()\n",
       "      (4): Linear(in_features=175, out_features=10, bias=True)\n",
       "    )\n",
       "    (mu_layer): Linear(in_features=10, out_features=4, bias=True)\n",
       "    (sigma_layer): Linear(in_features=10, out_features=4, bias=True)\n",
       "  )\n",
       "  (decoder): Decoder(\n",
       "    (layers): ModuleList(\n",
       "      (0): Linear(in_features=4, out_features=24, bias=True)\n",
       "      (1): ReLU()\n",
       "      (2): Linear(in_features=24, out_features=175, bias=True)\n",
       "      (3): ReLU()\n",
       "      (4): Reshape()\n",
       "      (5): LSTM(1, 1, batch_first=True)\n",
       "      (6): RNNExtract()\n",
       "    )\n",
       "  )\n",
       ")"
      ]
     },
     "execution_count": 364,
     "metadata": {},
     "output_type": "execute_result"
    }
   ],
   "source": [
    "model.to(\"cuda:0\")"
   ]
  },
  {
   "cell_type": "code",
   "execution_count": 365,
   "metadata": {},
   "outputs": [],
   "source": [
    "dset = UCRDataset(**cfg[\"data\"], cache_location=\"adsdssdd\")"
   ]
  },
  {
   "cell_type": "code",
   "execution_count": 366,
   "metadata": {},
   "outputs": [],
   "source": [
    "x,_ = dset.__getitem__(70)\n",
    "x2,_ = dset.__getitem__(175+78)\n",
    "x3,_ = dset.__getitem__(2*175+150)\n",
    "\n",
    "x = torch.Tensor(x).to(\"cuda:0\")\n",
    "x2 = torch.Tensor(x2).to(\"cuda:0\")\n",
    "x3 = torch.Tensor(x3).to(\"cuda:0\")"
   ]
  },
  {
   "cell_type": "code",
   "execution_count": 367,
   "metadata": {},
   "outputs": [],
   "source": [
    "z = model.encoder(x)\n",
    "rec = model.decoder(z)\n",
    "\n",
    "z2 = model.encoder(x2)\n",
    "z3 = model.encoder(x3)"
   ]
  },
  {
   "cell_type": "code",
   "execution_count": 368,
   "metadata": {},
   "outputs": [
    {
     "name": "stdout",
     "output_type": "stream",
     "text": [
      "torch.Size([175, 1])\n"
     ]
    }
   ],
   "source": [
    "new_z = []\n",
    "for i in range(50):\n",
    "    new_zz = z + torch.normal(mean=torch.zeros(4).to(\"cuda:0\"), std=torch.zeros(4).to(\"cuda:0\")+0.1)\n",
    "    dec = model.decoder(new_zz)\n",
    "    new_z.append(dec)\n",
    "#     new_zz = z2 + torch.normal(mean=torch.zeros(4).to(\"cuda:0\"), std=torch.zeros(4).to(\"cuda:0\")+0.1)\n",
    "#     dec = model.decoder(new_zz)\n",
    "#     new_z.append(dec)\n",
    "#     new_zz = z3 + torch.normal(mean=torch.zeros(4).to(\"cuda:0\"), std=torch.zeros(4).to(\"cuda:0\")+0.1)\n",
    "#     dec = model.decoder(new_zz)\n",
    "#     new_z.append(dec)\n",
    "\n",
    "new_z = torch.concat(new_z)\n",
    "new_z = torch.mean(new_z, axis=0)\n",
    "print(new_z.shape)\n",
    "\n",
    "# new_z = torch.mean(torch.concat([new_z, new_z2, new_z3]),axis=0)\n",
    "# print(new_z)\n",
    "new_z = savgol_filter(new_z.detach().cpu().numpy().reshape(175), 40,5)\n",
    "# new_rec = model.decoder(new_z)\n",
    "# mse = torch.mean((x-new_z)**2)"
   ]
  },
  {
   "cell_type": "code",
   "execution_count": 126,
   "metadata": {},
   "outputs": [
    {
     "data": {
      "text/plain": [
       "(tensor(0.0037, device='cuda:0', grad_fn=<MeanBackward0>),\n",
       " tensor([[-0.4757,  2.3232,  1.0797, -1.3037]], device='cuda:0',\n",
       "        grad_fn=<AddBackward0>))"
      ]
     },
     "execution_count": 126,
     "metadata": {},
     "output_type": "execute_result"
    }
   ],
   "source": [
    "mse, z"
   ]
  },
  {
   "cell_type": "code",
   "execution_count": 369,
   "metadata": {
    "pycharm": {
     "name": "#%%\n"
    }
   },
   "outputs": [
    {
     "name": "stdout",
     "output_type": "stream",
     "text": [
      "tensor([ 2.2811,  1.2796, -0.8305,  0.2246], device='cuda:0')\n"
     ]
    },
    {
     "data": {
      "image/png": "[encoded data removed]",
      "text/plain": [
       "<Figure size 640x480 with 1 Axes>"
      ]
     },
     "metadata": {},
     "output_type": "display_data"
    }
   ],
   "source": [
    "sample = torch.normal(mean=torch.zeros(4)).to(\"cuda:0\")\n",
    "print(sample)\n",
    "resp = model.decoder(sample).to(\"cuda:0\")\n",
    "\n",
    "plt.plot(np.arange(175), x.detach().cpu().reshape(175,1))\n",
    "# plt.plot(np.arange(175), x2.detach().cpu().reshape(175,1))\n",
    "# plt.plot(np.arange(175), x3.detach().cpu().reshape(175,1))\n",
    "# plt.plot(np.arange(175), resp.detach().cpu().numpy().reshape(175,1))\n",
    "plt.plot(np.arange(175), rec.cpu().detach().reshape(175,1), alpha=0.3)\n",
    "plt.plot(np.arange(175), new_z)\n",
    "plt.grid(alpha=0.5)\n",
    "plt.show()\n",
    "\n",
    "\n",
    "\n"
   ]
  }
 ],
 "metadata": {
  "kernelspec": {
   "display_name": "Python 3 (ipykernel)",
   "language": "python",
   "name": "python3"
  },
  "language_info": {
   "codemirror_mode": {
    "name": "ipython",
    "version": 3
   },
   "file_extension": ".py",
   "mimetype": "text/x-python",
   "name": "python",
   "nbconvert_exporter": "python",
   "pygments_lexer": "ipython3",
   "version": "3.10.6"
  }
 },
 "nbformat": 4,
 "nbformat_minor": 1
}
